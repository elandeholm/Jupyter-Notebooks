{
 "cells": [
  {
   "cell_type": "code",
   "execution_count": 1,
   "id": "5a6fb834-aac1-4ae3-80c1-356d9100d0f7",
   "metadata": {},
   "outputs": [
    {
     "name": "stdout",
     "output_type": "stream",
     "text": [
      "Testing coprime generator with N=10000000, K=1000000, pc=False, t3c=False...\n",
      "  Average calls to gcd(): 1.644795\n",
      "  Average retries: 0.644795\n",
      "Testing coprime generator with N=10000000, K=1000000, pc=True, t3c=False...\n",
      "  Average calls to gcd(): 1.233443\n",
      "  Average retries: 0.645048\n",
      "Testing coprime generator with N=10000000, K=1000000, pc=True, t3c=True...\n",
      "  Average calls to gcd(): 1.09691\n",
      "  Average retries: 0.646662\n"
     ]
    }
   ],
   "source": [
    "from random import randint\n",
    "from math import gcd\n",
    "\n",
    "\n",
    "# Generate K coprime pairs in the range 0 < p, q <= N\n",
    "#\n",
    "# pc controls the parity checking, with pc=True\n",
    "# we only call gcd() for p, q that are not both even\n",
    "#\n",
    "# t3c controls 3 factor checking, with t3c=True\n",
    "# we only call gcd() for p, q that are not both factors of 3\n",
    "#\n",
    "# yields tuples p, q, # of gcd calls, # of retries\n",
    "\n",
    "def coprime_gen(N, K, pc=False, t3c=False):\n",
    "    k = 0\n",
    "    while k < K:\n",
    "        k += 1\n",
    "        coprime = False\n",
    "        gcd_calls = 0\n",
    "        retries = 0\n",
    "        while not coprime:\n",
    "            p, q = randint(1, N+1), randint(1, N+1)\n",
    "            if (not pc or (p | q) & 1) and (not t3c or (p % 3) or (q % 3)):\n",
    "                gcd_calls += 1\n",
    "                if gcd(p, q) == 1:\n",
    "                    yield p, q, gcd_calls, retries\n",
    "                    coprime = True\n",
    "            if not coprime:\n",
    "                retries += 1\n",
    "                \n",
    "                \n",
    "def test_cpg(N, K, pc=False, t3c=False):\n",
    "    cpg = coprime_gen(N=N, K=K, pc=pc, t3c=t3c)\n",
    "    \n",
    "    print(\"Testing coprime generator with N={}, K={}, pc={}, t3c={}...\".format(N, K, pc, t3c))\n",
    "\n",
    "    total_gcd_calls = 0\n",
    "    total_retries = 0\n",
    "    for coprime_data in cpg:\n",
    "        p, q, gcd_calls, retries = coprime_data\n",
    "        total_gcd_calls += gcd_calls\n",
    "        total_retries   += retries\n",
    "\n",
    "    print(\"  Average calls to gcd(): {}\".format(total_gcd_calls / K))\n",
    "    print(\"  Average retries: {}\".format(total_retries / K))\n",
    "\n",
    "N = 10000000\n",
    "K = 1000000\n",
    "    \n",
    "test_cpg(N, K, pc=False)\n",
    "test_cpg(N, K, pc=True)\n",
    "test_cpg(N, K, pc=True, t3c=True)"
   ]
  },
  {
   "cell_type": "code",
   "execution_count": 2,
   "id": "6d0af129-f9b3-4a08-96ab-37f8f58079b4",
   "metadata": {
    "tags": []
   },
   "outputs": [
    {
     "data": {
      "text/plain": [
       "0.7507262267969473"
      ]
     },
     "execution_count": 2,
     "metadata": {},
     "output_type": "execute_result"
    }
   ],
   "source": [
    "1.233763 / 1.643426"
   ]
  },
  {
   "cell_type": "code",
   "execution_count": null,
   "id": "bcff6fb7-cd75-4f9b-8f2b-4926b4966dab",
   "metadata": {},
   "outputs": [],
   "source": []
  }
 ],
 "metadata": {
  "kernelspec": {
   "display_name": "Python 3 (ipykernel)",
   "language": "python",
   "name": "python3"
  },
  "language_info": {
   "codemirror_mode": {
    "name": "ipython",
    "version": 3
   },
   "file_extension": ".py",
   "mimetype": "text/x-python",
   "name": "python",
   "nbconvert_exporter": "python",
   "pygments_lexer": "ipython3",
   "version": "3.11.5"
  }
 },
 "nbformat": 4,
 "nbformat_minor": 5
}
