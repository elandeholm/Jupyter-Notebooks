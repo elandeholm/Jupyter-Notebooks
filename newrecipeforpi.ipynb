{
 "cells": [
  {
   "cell_type": "code",
   "execution_count": 6,
   "id": "c8d32bf0-2ef2-4a22-a9f6-7b5987f26613",
   "metadata": {},
   "outputs": [
    {
     "name": "stdout",
     "output_type": "stream",
     "text": [
      "[3.16666666666667, 3.14722222222222, 3.14366474454365, 3.14256856398810, 3.14212614663544, 3.14191494492242, 3.14180182166922, 3.14173592225799, 3.14169499409314, 3.14166825925894]\n"
     ]
    }
   ],
   "source": [
    "from sympy.functions.combinatorial.factorials import RisingFactorial\n",
    "\n",
    "def f(lamda):\n",
    "    PI = 4\n",
    "    nfact = 1\n",
    "    n = 1\n",
    "    tnp1 = 3\n",
    "\n",
    "    while True:\n",
    "        nfact *= n\n",
    "\n",
    "        T1 = 1 / (n + lamda)\n",
    "        T2 = -4 / tnp1\n",
    "        F1 = T1 + T2\n",
    "        F2 = tnp1**2 / (4 * (n + lamda)) - n\n",
    "        PI += F1 * RisingFactorial(F2, n - 1) / nfact\n",
    "        yield PI\n",
    "        \n",
    "        n += 1\n",
    "        tnp1 += 2\n",
    "\n",
    "g = f(lamda=1)\n",
    "print([ next(g) for _ in range(10) ])"
   ]
  },
  {
   "cell_type": "code",
   "execution_count": null,
   "id": "f5883e17-8d7c-4f67-a38f-bbab8d4a2c63",
   "metadata": {},
   "outputs": [],
   "source": []
  }
 ],
 "metadata": {
  "kernelspec": {
   "display_name": "Python 3 (ipykernel)",
   "language": "python",
   "name": "python3"
  },
  "language_info": {
   "codemirror_mode": {
    "name": "ipython",
    "version": 3
   },
   "file_extension": ".py",
   "mimetype": "text/x-python",
   "name": "python",
   "nbconvert_exporter": "python",
   "pygments_lexer": "ipython3",
   "version": "3.12.4"
  }
 },
 "nbformat": 4,
 "nbformat_minor": 5
}
