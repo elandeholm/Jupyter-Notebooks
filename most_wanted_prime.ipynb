{
 "cells": [
  {
   "cell_type": "code",
   "execution_count": 3,
   "id": "6af644a2-f2b4-4028-9ce9-cbac166c1ae0",
   "metadata": {
    "tags": []
   },
   "outputs": [],
   "source": [
    "from math import sqrt\n",
    "from math import log10\n",
    "\n",
    "# Numberphile\n",
    "# https://www.youtube.com/watch?v=vKlVNFOHJ9I\n",
    "\n",
    "def factor(n):\n",
    "    def max_divisor(n):\n",
    "        return int(sqrt(n + 1))\n",
    " \n",
    "    if n < 2:\n",
    "        return [ n ] \n",
    "\n",
    "    factors = [ ]\n",
    "    \n",
    "    while not n % 2:\n",
    "        factors.append(2)\n",
    "        n //= 2\n",
    "        m = max_divisor(n)\n",
    "    if n % 2:\n",
    "        d = 3\n",
    "        m = max_divisor(n)        \n",
    "        \n",
    "        while d < m:\n",
    "            while not n % d:\n",
    "                factors.append(d)\n",
    "                n //= d\n",
    "                m = max_divisor(n)\n",
    "            d += 2\n",
    "            \n",
    "    if n != 1:\n",
    "        factors.append(n)\n",
    "    return factors\n",
    "\n",
    "def composite_p(n):\n",
    "    if n % 2:\n",
    "        d = 3\n",
    "        while d < int(sqrt(n) + 1):\n",
    "            if not n % d:\n",
    "                return True\n",
    "            d += 2\n",
    "        return False\n",
    "    else:\n",
    "        return n != 2\n",
    "    \n",
    "def most_wanted_primes(n):\n",
    "    m = 1\n",
    "    \n",
    "    for i in range(2, n + 2, 2):\n",
    "        yield (m)\n",
    "        digits = int(log10(i)) + 1\n",
    "        m *= int(10**digits)\n",
    "        m += i\n",
    "        digits = int(log10(i+1)) + 1\n",
    "        m *= int(10**digits)\n",
    "        m += i + 1\n"
   ]
  },
  {
   "cell_type": "code",
   "execution_count": 11,
   "id": "3140367e-c69b-4a69-8a69-e20e672aae6d",
   "metadata": {
    "tags": []
   },
   "outputs": [
    {
     "data": {
      "text/plain": [
       "[(1, False),\n",
       " (123, True),\n",
       " (12345, True),\n",
       " (1234567, True),\n",
       " (123456789, True),\n",
       " (1234567891011, True),\n",
       " (12345678910111213, True),\n",
       " (123456789101112131415, True),\n",
       " (1234567891011121314151617, True),\n",
       " (12345678910111213141516171819, True),\n",
       " (123456789101112131415161718192021, True),\n",
       " (1234567891011121314151617181920212223, True),\n",
       " (12345678910111213141516171819202122232425, True),\n",
       " (123456789101112131415161718192021222324252627, True),\n",
       " (1234567891011121314151617181920212223242526272829, True),\n",
       " (12345678910111213141516171819202122232425262728293031, True),\n",
       " (123456789101112131415161718192021222324252627282930313233, True),\n",
       " (1234567891011121314151617181920212223242526272829303132333435, True),\n",
       " (12345678910111213141516171819202122232425262728293031323334353637, True),\n",
       " (123456789101112131415161718192021222324252627282930313233343536373839, True),\n",
       " (1234567891011121314151617181920212223242526272829303132333435363738394041,\n",
       "  True),\n",
       " (12345678910111213141516171819202122232425262728293031323334353637383940414243,\n",
       "  True),\n",
       " (123456789101112131415161718192021222324252627282930313233343536373839404142434445,\n",
       "  True),\n",
       " (1234567891011121314151617181920212223242526272829303132333435363738394041424344454647,\n",
       "  True),\n",
       " (12345678910111213141516171819202122232425262728293031323334353637383940414243444546474849,\n",
       "  True)]"
      ]
     },
     "execution_count": 11,
     "metadata": {},
     "output_type": "execute_result"
    }
   ],
   "source": [
    "[ ( x, composite_p(x) ) for x in most_wanted_primes(50) ]"
   ]
  }
 ],
 "metadata": {
  "kernelspec": {
   "display_name": "Python 3 (ipykernel)",
   "language": "python",
   "name": "python3"
  },
  "language_info": {
   "codemirror_mode": {
    "name": "ipython",
    "version": 3
   },
   "file_extension": ".py",
   "mimetype": "text/x-python",
   "name": "python",
   "nbconvert_exporter": "python",
   "pygments_lexer": "ipython3",
   "version": "3.11.8"
  }
 },
 "nbformat": 4,
 "nbformat_minor": 5
}
