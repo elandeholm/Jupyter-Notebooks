{
 "cells": [
  {
   "cell_type": "code",
   "execution_count": 3,
   "id": "6ca77379-5f6a-42ba-b12c-d3644e0144e7",
   "metadata": {
    "tags": []
   },
   "outputs": [],
   "source": [
    "from math import pi\n",
    "from scipy.integrate import quad\n",
    "\n",
    "def rel_err(approx, expected):\n",
    "    return abs(1 - approx/ expected)\n",
    "\n",
    "def pancake(x):\n",
    "    n = x**4 * (1 - x)**4\n",
    "    d = 1 + x**2\n",
    "    \n",
    "    return 22/7 - n/d\n",
    "\n",
    "[ rel_err(a, pi) for a in ( pancake(0), pancake(1/2), pancake(1), quad(pancake, 0, 1)[0] ) ]\n",
    "\n"
   ]
  }
 ],
 "metadata": {
  "kernelspec": {
   "display_name": "Python 3 (ipykernel)",
   "language": "python",
   "name": "python3"
  },
  "language_info": {
   "codemirror_mode": {
    "name": "ipython",
    "version": 3
   },
   "file_extension": ".py",
   "mimetype": "text/x-python",
   "name": "python",
   "nbconvert_exporter": "python",
   "pygments_lexer": "ipython3",
   "version": "3.11.5"
  }
 },
 "nbformat": 4,
 "nbformat_minor": 5
}
