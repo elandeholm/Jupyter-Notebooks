{
 "cells": [
  {
   "cell_type": "code",
   "execution_count": 1,
   "id": "c4942e94-5ec2-44ab-8543-b73ec8cfa68f",
   "metadata": {
    "tags": []
   },
   "outputs": [],
   "source": [
    "def catalan(n, _cache, _calls):\n",
    "    _calls[0] += 1\n",
    "    try:\n",
    "        return _cache[n]\n",
    "    except KeyError:\n",
    "        pass\n",
    "\n",
    "    if n >= 2:\n",
    "        u = [ catalan(i, _cache, _calls ) for i in range(n) ]\n",
    "        r = sum([ u[i] * u[n - 1 - i] for i in range(n) ])\n",
    "    elif n >= 0:\n",
    "        r = 1\n",
    "    else:\n",
    "        r = 0\n",
    "        \n",
    "    _cache[n] = r\n",
    "        \n",
    "    return r"
   ]
  },
  {
   "cell_type": "code",
   "execution_count": 2,
   "id": "f4ac6fce-1d4e-4f39-8218-8e244e941e3e",
   "metadata": {
    "tags": []
   },
   "outputs": [
    {
     "name": "stdout",
     "output_type": "stream",
     "text": [
      "16796 [55] {0: 1, 1: 1, 2: 2, 3: 5, 4: 14, 5: 42, 6: 132, 7: 429, 8: 1430, 9: 4862, 10: 16796}\n"
     ]
    }
   ],
   "source": [
    "_cache = { }\n",
    "_calls = [ 0 ]\n",
    "\n",
    "N = 10\n",
    "\n",
    "print(catalan(10, _cache, _calls), _calls, _cache)"
   ]
  }
 ],
 "metadata": {
  "kernelspec": {
   "display_name": "Python 3 (ipykernel)",
   "language": "python",
   "name": "python3"
  },
  "language_info": {
   "codemirror_mode": {
    "name": "ipython",
    "version": 3
   },
   "file_extension": ".py",
   "mimetype": "text/x-python",
   "name": "python",
   "nbconvert_exporter": "python",
   "pygments_lexer": "ipython3",
   "version": "3.11.3"
  }
 },
 "nbformat": 4,
 "nbformat_minor": 5
}
