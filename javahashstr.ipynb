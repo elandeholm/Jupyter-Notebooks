{
 "cells": [
  {
   "cell_type": "code",
   "execution_count": 1,
   "id": "1a5ade63-4d4f-46db-a2f6-8cce2bbb940a",
   "metadata": {
    "tags": []
   },
   "outputs": [],
   "source": [
    "from random import seed, randint\n",
    "\n",
    "seed(20240320)"
   ]
  },
  {
   "cell_type": "code",
   "execution_count": 2,
   "id": "ac5f42a3-2b64-41ec-beaf-e2cd5695e71b",
   "metadata": {
    "tags": []
   },
   "outputs": [],
   "source": [
    "def gen_JavaHashCode():\n",
    "    m1 = 2**32\n",
    "    m2 = 2**31\n",
    "    m = m1 - 1\n",
    "    \n",
    "    def _jhc(s):\n",
    "        hc = 0\n",
    "        for c in s:\n",
    "            hc = (hc * 31 + ord(c)) & m\n",
    "\n",
    "        if hc & m2:\n",
    "            hc -= m1  # overflow like Java\n",
    "\n",
    "        return hc\n",
    "    \n",
    "    return _jhc\n",
    "\n",
    "jhc = gen_JavaHashCode()"
   ]
  },
  {
   "cell_type": "code",
   "execution_count": 3,
   "id": "51f5835f-ce7a-4109-b208-d4abfbf3a1a8",
   "metadata": {
    "tags": []
   },
   "outputs": [],
   "source": [
    "assert(jhc(\"The Quick Brown Fox\") == -732416445)\n",
    "\n",
    "# https://stackoverflow.com/questions/18746394/can-a-non-empty-string-have-a-hashcode-of-zero\n",
    "\n",
    "assert(jhc(\"f5a5a608\") == 0)\n",
    "\n",
    "# https://horstmann.com/unblog/2020-04-02/index.html\n",
    "\n",
    "assert(jhc(\"PDFYFCD\") == jhc(\"YYHCCTL\") == 0)\n",
    "\n",
    "assert(jhc(\"pollinating sandboxes\") == 0)\n",
    "\n",
    "# https://www.javaspecialists.eu/archive/Issue277-Strings-with-Zero-HashCode.html\n",
    "\n",
    "assert(jhc(\"ARcZguv\") == 0)"
   ]
  },
  {
   "cell_type": "code",
   "execution_count": 4,
   "id": "400ef9ce-4c04-4d7c-a291-e45c4d5aa06c",
   "metadata": {},
   "outputs": [],
   "source": [
    "def gen_random_string(n):\n",
    "    alphabet  = \"abcdefghijklmnopqrstuvwxyz\"\n",
    "    alphabet += alphabet.upper()\n",
    "    alphabet += \"0123456789\"\n",
    "    \n",
    "    size = len(alphabet)\n",
    "    \n",
    "    N = range(n)\n",
    "\n",
    "    def _grs():\n",
    "        return \"\".join([ alphabet[randint(0, size-1)] for _ in N])\n",
    "\n",
    "    return _grs"
   ]
  },
  {
   "cell_type": "code",
   "execution_count": null,
   "id": "ff375a53-590c-4350-9646-263ab2586bb9",
   "metadata": {
    "tags": []
   },
   "outputs": [],
   "source": [
    "N = 2**32 * 10\n",
    "K = 7\n",
    "\n",
    "jhc = gen_JavaHashCode()\n",
    "grs = gen_random_string(K)\n",
    "\n",
    "for _ in range(N):\n",
    "    if (h := jhc(s := grs())) == 0:\n",
    "        print(s, h)    "
   ]
  },
  {
   "cell_type": "code",
   "execution_count": 6,
   "id": "8d418f65-6463-4afd-8de7-29508e14f566",
   "metadata": {
    "tags": []
   },
   "outputs": [
    {
     "name": "stdout",
     "output_type": "stream",
     "text": [
      "9371461746\n"
     ]
    }
   ],
   "source": [
    "print(_)"
   ]
  },
  {
   "cell_type": "code",
   "execution_count": null,
   "id": "7e6dd7a1-9059-40fa-b2d1-4cb66aa85ccf",
   "metadata": {},
   "outputs": [],
   "source": []
  }
 ],
 "metadata": {
  "kernelspec": {
   "display_name": "Python 3 (ipykernel)",
   "language": "python",
   "name": "python3"
  },
  "language_info": {
   "codemirror_mode": {
    "name": "ipython",
    "version": 3
   },
   "file_extension": ".py",
   "mimetype": "text/x-python",
   "name": "python",
   "nbconvert_exporter": "python",
   "pygments_lexer": "ipython3",
   "version": "3.11.5"
  }
 },
 "nbformat": 4,
 "nbformat_minor": 5
}
