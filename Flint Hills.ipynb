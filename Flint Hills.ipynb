{
 "cells": [
  {
   "cell_type": "code",
   "execution_count": 1,
   "id": "4da056dc-5865-4198-8853-187d997f7550",
   "metadata": {},
   "outputs": [
    {
     "name": "stdout",
     "output_type": "stream",
     "text": [
      "30.314539402298696\n"
     ]
    }
   ],
   "source": [
    "from math import sin\n",
    "\n",
    "def flint_hills_gen(N):\n",
    "    for n in range(1, N):\n",
    "        denom = n * (n * sin(n)) ** 2\n",
    "        yield 1 / denom\n",
    "\n",
    "FH = flint_hills_gen(1000000)\n",
    "print(sum(FH))"
   ]
  },
  {
   "cell_type": "code",
   "execution_count": null,
   "id": "b10cc2fe-a9f1-4c2d-9f40-7feab8fb6261",
   "metadata": {},
   "outputs": [],
   "source": []
  }
 ],
 "metadata": {
  "kernelspec": {
   "display_name": "Python 3 (ipykernel)",
   "language": "python",
   "name": "python3"
  },
  "language_info": {
   "codemirror_mode": {
    "name": "ipython",
    "version": 3
   },
   "file_extension": ".py",
   "mimetype": "text/x-python",
   "name": "python",
   "nbconvert_exporter": "python",
   "pygments_lexer": "ipython3",
   "version": "3.11.8"
  }
 },
 "nbformat": 4,
 "nbformat_minor": 5
}
