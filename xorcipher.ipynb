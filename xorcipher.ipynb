{
 "cells": [
  {
   "cell_type": "code",
   "execution_count": 1,
   "id": "c233da50-8c40-4331-ae47-f34b7fd64822",
   "metadata": {},
   "outputs": [],
   "source": [
    "from typing import Iterator, Optional\n",
    "import itertools, operator\n",
    "\n",
    "class XorCipher():\n",
    "    def __init__(self, key_str: Optional[str] = None, key_enc: Optional[str] = \"utf-8\") -> None:\n",
    "        self.key_array = bytearray(key_str, key_enc)\n",
    "\n",
    "    def key_stream(self) -> Iterator[int]:\n",
    "        yield from itertools.cycle(self.key_array)\n",
    "        \n",
    "    def crypt(self, stream: Iterator[int]) -> Iterator[int]:\n",
    "        return itertools.starmap(operator.xor, zip(stream, self.key_stream()))\n",
    "\n",
    "    def encrypt(self, text: str, enc: Optional[str] = \"utf-8\") -> Iterator[int]:\n",
    "        return self.crypt(iter(bytearray(text, enc)))\n",
    "\n",
    "    # this may raise if the key is wrong and the decryption is not \"utf-8\"\n",
    "    \n",
    "    def decrypt(self, stream: Iterator[int], enc: Optional[str] = \"utf-8\") -> str:\n",
    "        return bytes(self.crypt(stream)).decode(enc)            "
   ]
  },
  {
   "cell_type": "code",
   "execution_count": 3,
   "id": "f4ce4806-cb02-48ec-b7a2-3e4af853c343",
   "metadata": {},
   "outputs": [
    {
     "name": "stdout",
     "output_type": "stream",
     "text": [
      "if you can read this message, encryption+decryption worked!\n"
     ]
    }
   ],
   "source": [
    "cipher_key = \"this is the key string\"\n",
    "plain_text = \"if you can read this message, encryption+decryption worked!\"\n",
    "\n",
    "cipher_text = XorCipher(cipher_key).encrypt(plain_text)\n",
    "print(XorCipher(cipher_key).decrypt(cipher_text))"
   ]
  },
  {
   "cell_type": "code",
   "execution_count": null,
   "id": "78e393b0-b7e8-494e-ae37-bf3a448d933d",
   "metadata": {},
   "outputs": [],
   "source": []
  }
 ],
 "metadata": {
  "kernelspec": {
   "display_name": "Python 3 (ipykernel)",
   "language": "python",
   "name": "python3"
  },
  "language_info": {
   "codemirror_mode": {
    "name": "ipython",
    "version": 3
   },
   "file_extension": ".py",
   "mimetype": "text/x-python",
   "name": "python",
   "nbconvert_exporter": "python",
   "pygments_lexer": "ipython3",
   "version": "3.11.8"
  }
 },
 "nbformat": 4,
 "nbformat_minor": 5
}
