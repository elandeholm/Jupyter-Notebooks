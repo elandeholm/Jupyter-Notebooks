{
 "cells": [
  {
   "cell_type": "code",
   "execution_count": 1,
   "id": "be6619cf-b25c-4c49-a9c3-fc53c7d6652c",
   "metadata": {
    "tags": []
   },
   "outputs": [
    {
     "name": "stdout",
     "output_type": "stream",
     "text": [
      "70 7.020001066848636e-05\n"
     ]
    }
   ],
   "source": [
    "def choose(N, k):\n",
    "    def _choose_iterative(N, k):\n",
    "        numerator = N\n",
    "        denominator = k\n",
    "        \n",
    "        while k > 1:\n",
    "            N -= 1\n",
    "            k -= 1\n",
    "            numerator *= N\n",
    "            denominator *= k\n",
    "            \n",
    "        # the result of this division is provably always an integer\n",
    "            \n",
    "        return numerator // denominator\n",
    "\n",
    "    # preconditions and range reduction before jumping into the iteration\n",
    "\n",
    "    assert isinstance(N, int)\n",
    "    assert isinstance(k, int)\n",
    "\n",
    "    if N <= 0 or k < 0 or k > N:\n",
    "        return 0\n",
    "    elif k + k > N: # reflection formula\n",
    "        k = N - k\n",
    "\n",
    "    return _choose_iterative(N, k)\n",
    "\n",
    "from time import perf_counter\n",
    "\n",
    "start_time = perf_counter()\n",
    "c = choose(8, 4)\n",
    "elapsed_time = perf_counter() - start_time\n",
    "print(c, elapsed_time)\n"
   ]
  },
  {
   "cell_type": "code",
   "execution_count": null,
   "id": "6ff04efe-2c32-445e-bb06-f86ec95944b3",
   "metadata": {},
   "outputs": [],
   "source": []
  }
 ],
 "metadata": {
  "kernelspec": {
   "display_name": "Python 3 (ipykernel)",
   "language": "python",
   "name": "python3"
  },
  "language_info": {
   "codemirror_mode": {
    "name": "ipython",
    "version": 3
   },
   "file_extension": ".py",
   "mimetype": "text/x-python",
   "name": "python",
   "nbconvert_exporter": "python",
   "pygments_lexer": "ipython3",
   "version": "3.11.5"
  }
 },
 "nbformat": 4,
 "nbformat_minor": 5
}
