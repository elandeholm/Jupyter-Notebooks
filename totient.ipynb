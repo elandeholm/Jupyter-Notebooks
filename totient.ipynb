{
 "cells": [
  {
   "cell_type": "code",
   "execution_count": 1,
   "id": "05a650e2-ba8d-4389-b04c-e2cbf8fcc53c",
   "metadata": {
    "tags": []
   },
   "outputs": [
    {
     "name": "stdout",
     "output_type": "stream",
     "text": [
      "phi(2) = 1\n",
      "phi(4) = 2\n",
      "phi(10) = 4\n",
      "phi(28) = 12\n",
      "phi(82) = 40\n",
      "phi(244) = 120\n",
      "phi(730) = 288\n",
      "phi(2188) = 1092\n",
      "phi(6562) = 3072\n",
      "phi(19684) = 7776\n",
      "phi(59050) = 23600\n",
      "phi(177148) = 87120\n",
      "phi(531442) = 259200\n",
      "phi(1594324) = 797160\n",
      "phi(4782970) = 1847104\n",
      "phi(14348908) = 5832000\n",
      "phi(43046722) = 21523360\n",
      "phi(129140164) = 63672480\n",
      "phi(387420490) = 152845056\n",
      "phi(1162261468) = 580921200\n"
     ]
    }
   ],
   "source": [
    "from sys import argv\n",
    "from math import sqrt, gcd\n",
    "\n",
    "def phi(mn):\n",
    "\tif mn > 2:\n",
    "\t\tdivisor = 2\n",
    "\t\tr = mn - 1\n",
    "\n",
    "\t\tlimit = int(sqrt(mn) + 1)\n",
    "\n",
    "\t\twhile divisor < limit:\n",
    "\t\t\tif not mn % divisor:\n",
    "\t\t\t\tk = mn // divisor\n",
    "\t\t\t\tprime_power = divisor\n",
    "\t\t\t\tprev_prime_power = 1\n",
    "\n",
    "\t\t\t\twhile not k % divisor:\n",
    "\t\t\t\t\tk //= divisor\n",
    "\t\t\t\t\tprev_prime_power, prime_power = prime_power, prime_power * divisor\n",
    "\n",
    "\t\t\t\tr = prime_power - prev_prime_power\n",
    "\n",
    "\t\t\t\tif k > 1:\n",
    "\t\t\t\t\tif k > 2:\n",
    "\t\t\t\t\t\tr *= phi(k)\n",
    "\t\t\t\t\td = gcd(prime_power, k)\n",
    "\t\t\t\t\tif d > 1:\n",
    "\t\t\t\t\t\tr *= d\n",
    "\t\t\t\t\t\tr //= phi(d)\n",
    "\t\t\t\t\t\t\n",
    "\t\t\t\tbreak\n",
    "\n",
    "\t\t\tdivisor += 1 + divisor % 2\n",
    "\telse:\n",
    "\t\tr = 1\n",
    "\n",
    "\treturn r\n",
    "\n",
    "for n in [ 3**i + 1 for i in range(20) ]:\n",
    "\tprint(\"phi({}) = {}\".format(n, phi(n)))"
   ]
  },
  {
   "cell_type": "code",
   "execution_count": null,
   "id": "fcc43417-ed26-4c04-8bf9-d4b27c8510d7",
   "metadata": {},
   "outputs": [],
   "source": []
  }
 ],
 "metadata": {
  "kernelspec": {
   "display_name": "Python 3 (ipykernel)",
   "language": "python",
   "name": "python3"
  },
  "language_info": {
   "codemirror_mode": {
    "name": "ipython",
    "version": 3
   },
   "file_extension": ".py",
   "mimetype": "text/x-python",
   "name": "python",
   "nbconvert_exporter": "python",
   "pygments_lexer": "ipython3",
   "version": "3.11.8"
  }
 },
 "nbformat": 4,
 "nbformat_minor": 5
}
