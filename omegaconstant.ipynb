{
 "cells": [
  {
   "cell_type": "code",
   "execution_count": 1,
   "id": "0e4dfb12-91c9-46b2-b503-d6ee46ff92dd",
   "metadata": {},
   "outputs": [
    {
     "name": "stdout",
     "output_type": "stream",
     "text": [
      "iter_simple: (64, 0.5671432904097841, 3.3306690738754696e-16)\n",
      "iter_smart: (6, 0.5671432904097838, 0.0)\n",
      "iter_halley: (5, 0.5671432904097838, 0.0)\n"
     ]
    }
   ],
   "source": [
    "import math\n",
    "import sys\n",
    "\n",
    "# https://en.wikipedia.org/wiki/Omega_constant\n",
    "\n",
    "def iter_simple(o):\n",
    "    return math.exp(-o)\n",
    "\n",
    "def iter_smart(o):\n",
    "    n = 1 + o\n",
    "    d = 1 + math.exp(o)\n",
    "\n",
    "    return n / d\n",
    "\n",
    "def iter_halley(o):\n",
    "    n1 = o * math.exp(o) - 1\n",
    "    d1 = (o + 1) * math.exp(o)\n",
    "\n",
    "    n2 = (o + 2) * n1\n",
    "    d2 = (o + 1) * 2\n",
    "\n",
    "    return o - (n1 / (d1 - n2/d2))\n",
    "\n",
    "def approximate(func, o_0, eps=sys.float_info.epsilon):\n",
    "    i = 0\n",
    "    o = o_0\n",
    "    converged = False\n",
    "    max_abs_diff = 2 * eps\n",
    "\n",
    "    while not converged:\n",
    "        i += 1\n",
    "        o_next = func(o)\n",
    "        abs_diff = abs(o_next - o)\n",
    "        if abs_diff <= max_abs_diff:\n",
    "            converged = True\n",
    "        else:\n",
    "            o = o_next\n",
    "\n",
    "    return i, o, abs_diff\n",
    "\n",
    "o_0 = 0\n",
    "\n",
    "print(\"iter_simple:\", approximate(iter_simple, o_0))\n",
    "print(\"iter_smart:\",  approximate(iter_smart, o_0))\n",
    "print(\"iter_halley:\",  approximate(iter_halley, o_0))\n",
    "            \n",
    "    "
   ]
  },
  {
   "cell_type": "code",
   "execution_count": null,
   "id": "cdf9a936-4237-43f0-86eb-f4e246a30b34",
   "metadata": {},
   "outputs": [],
   "source": []
  }
 ],
 "metadata": {
  "kernelspec": {
   "display_name": "Python 3 (ipykernel)",
   "language": "python",
   "name": "python3"
  },
  "language_info": {
   "codemirror_mode": {
    "name": "ipython",
    "version": 3
   },
   "file_extension": ".py",
   "mimetype": "text/x-python",
   "name": "python",
   "nbconvert_exporter": "python",
   "pygments_lexer": "ipython3",
   "version": "3.11.8"
  }
 },
 "nbformat": 4,
 "nbformat_minor": 5
}
